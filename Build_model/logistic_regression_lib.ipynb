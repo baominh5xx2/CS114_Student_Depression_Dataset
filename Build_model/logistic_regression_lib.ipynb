{
 "cells": [
  {
   "cell_type": "code",
   "execution_count": 1,
   "id": "0517c305",
   "metadata": {},
   "outputs": [],
   "source": [
    "import pandas as pd\n",
    "from sklearn.model_selection import train_test_split\n",
    "from sklearn.svm import SVC\n",
    "from sklearn.metrics import classification_report, accuracy_score\n",
    "from sklearn.linear_model import LogisticRegression\n",
    "from sklearn.model_selection import GridSearchCV"
   ]
  },
  {
   "cell_type": "code",
   "execution_count": 2,
   "id": "e6422b73",
   "metadata": {},
   "outputs": [],
   "source": [
    "df_train = pd.read_csv('../train_set_encoded.csv')\n",
    "df_val = pd.read_csv('../test_set_encoded.csv')\n",
    "X_val = df_val.drop('Depression', axis=1)\n",
    "y_val = df_val['Depression']\n",
    "X = df_train.drop('Depression', axis=1)\n",
    "y = df_train['Depression']"
   ]
  },
  {
   "cell_type": "code",
   "execution_count": 3,
   "id": "1481b178",
   "metadata": {},
   "outputs": [
    {
     "name": "stdout",
     "output_type": "stream",
     "text": [
      "Fitting 5 folds for each of 20 candidates, totalling 100 fits\n",
      "Best Parameters: {'C': 0.1, 'penalty': 'l1', 'solver': 'saga'}\n",
      "Best Cross-Validation Accuracy: 0.8468503774965326\n",
      "Classification Report (Training Set):\n",
      "              precision    recall  f1-score   support\n",
      "\n",
      "           0       0.83      0.79      0.81      9215\n",
      "           1       0.86      0.89      0.87     13103\n",
      "\n",
      "    accuracy                           0.85     22318\n",
      "   macro avg       0.84      0.84      0.84     22318\n",
      "weighted avg       0.85      0.85      0.85     22318\n",
      "\n",
      "\n",
      "Classification Report (Validation Set):\n",
      "              precision    recall  f1-score   support\n",
      "\n",
      "           0       0.84      0.78      0.81      2348\n",
      "           1       0.85      0.90      0.87      3232\n",
      "\n",
      "    accuracy                           0.85      5580\n",
      "   macro avg       0.85      0.84      0.84      5580\n",
      "weighted avg       0.85      0.85      0.84      5580\n",
      "\n"
     ]
    }
   ],
   "source": [
    "# Define the parameter grid for GridSearchCV\n",
    "param_grid = {\n",
    "    'C': [0.01, 0.1, 1, 10, 100],  # Regularization strength\n",
    "    'solver': ['liblinear','saga'],  # Solvers for optimization\n",
    "    'penalty': ['l2','l1']  # Regularization type\n",
    "}\n",
    "\n",
    "# Initialize the logistic regression model\n",
    "log_reg = LogisticRegression(max_iter=1000, random_state=42)\n",
    "\n",
    "# Perform GridSearchCV\n",
    "grid_search = GridSearchCV(estimator=log_reg, param_grid=param_grid, cv=5, scoring='accuracy', verbose=1)\n",
    "grid_search.fit(X, y)\n",
    "\n",
    "# Get the best model\n",
    "best_log_reg = grid_search.best_estimator_\n",
    "\n",
    "# Print the best parameters and accuracy\n",
    "print(f\"Best Parameters: {grid_search.best_params_}\")\n",
    "print(f\"Best Cross-Validation Accuracy: {grid_search.best_score_}\")\n",
    "\n",
    "# Predict on training and validation sets using the best model\n",
    "y_train_pred = best_log_reg.predict(X)\n",
    "y_valid_pred = best_log_reg.predict(X_val)\n",
    "\n",
    "# Generate classification reports\n",
    "print(\"Classification Report (Training Set):\")\n",
    "print(classification_report(y, y_train_pred))\n",
    "\n",
    "print(\"\\nClassification Report (Validation Set):\")\n",
    "print(classification_report(y_val, y_valid_pred))\n"
   ]
  }
 ],
 "metadata": {
  "kernelspec": {
   "display_name": "Python 3",
   "language": "python",
   "name": "python3"
  },
  "language_info": {
   "codemirror_mode": {
    "name": "ipython",
    "version": 3
   },
   "file_extension": ".py",
   "mimetype": "text/x-python",
   "name": "python",
   "nbconvert_exporter": "python",
   "pygments_lexer": "ipython3",
   "version": "3.10.11"
  }
 },
 "nbformat": 4,
 "nbformat_minor": 5
}

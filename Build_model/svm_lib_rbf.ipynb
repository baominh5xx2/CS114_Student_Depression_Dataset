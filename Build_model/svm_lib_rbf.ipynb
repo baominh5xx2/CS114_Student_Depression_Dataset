{
 "cells": [
  {
   "cell_type": "code",
   "execution_count": 1,
   "id": "33d09a01",
   "metadata": {},
   "outputs": [],
   "source": [
    "import pandas as pd\n",
    "from sklearn.model_selection import train_test_split\n",
    "from sklearn.svm import SVC\n",
    "from sklearn.metrics import classification_report, accuracy_score\n",
    "from svm_scratch import LinearSVM_Dual\n",
    "from sklearn.model_selection import GridSearchCV"
   ]
  },
  {
   "cell_type": "code",
   "execution_count": 2,
   "id": "d34db1e2",
   "metadata": {},
   "outputs": [],
   "source": [
    "df_train = pd.read_csv('../train_set_encoded.csv')\n",
    "df_val = pd.read_csv('../test_set_encoded.csv')\n",
    "X_val = df_val.drop('Depression', axis=1)\n",
    "y_val = df_val['Depression']\n",
    "X = df_train.drop('Depression', axis=1)\n",
    "y = df_train['Depression']"
   ]
  },
  {
   "cell_type": "code",
   "execution_count": 3,
   "id": "3cd2c533",
   "metadata": {},
   "outputs": [
    {
     "name": "stdout",
     "output_type": "stream",
     "text": [
      "Fitting 5 folds for each of 20 candidates, totalling 100 fits\n",
      "Best parameters: {'C': 1, 'gamma': 0.1}\n",
      "Best cross-validation accuracy: 0.845237403999592\n",
      "\n",
      "Validation Set Results:\n",
      "Accuracy on validation set: 0.8449820788530465\n",
      "\n",
      "Classification Report on Validation Set:\n",
      "              precision    recall  f1-score   support\n",
      "\n",
      "           0       0.85      0.77      0.81      2348\n",
      "           1       0.84      0.90      0.87      3232\n",
      "\n",
      "    accuracy                           0.84      5580\n",
      "   macro avg       0.85      0.83      0.84      5580\n",
      "weighted avg       0.85      0.84      0.84      5580\n",
      "\n"
     ]
    }
   ],
   "source": [
    "# Define parameter grid for SVM with RBF kernel\n",
    "param_grid = {\n",
    "    'C': [0.1, 1, 10, 100],\n",
    "    'gamma': ['scale', 'auto', 0.01, 0.1, 1]\n",
    "}\n",
    "\n",
    "# Initialize SVM model with RBF kernel\n",
    "svc = SVC(kernel='rbf', random_state=42)\n",
    "\n",
    "# Perform GridSearchCV\n",
    "grid_search = GridSearchCV(svc, param_grid, cv=5, scoring='accuracy', n_jobs=-1, verbose=1)\n",
    "grid_search.fit(X, y)\n",
    "\n",
    "# Print best parameters and score\n",
    "print(\"Best parameters:\", grid_search.best_params_)\n",
    "print(\"Best cross-validation accuracy:\", grid_search.best_score_)\n",
    "\n",
    "# Use best model and evaluate on validation set\n",
    "svm_model = grid_search.best_estimator_\n",
    "val_predictions = svm_model.predict(X_val)\n",
    "\n",
    "# Print validation results\n",
    "print(\"\\nValidation Set Results:\")\n",
    "print(\"Accuracy on validation set:\", accuracy_score(y_val, val_predictions))\n",
    "print(\"\\nClassification Report on Validation Set:\")\n",
    "print(classification_report(y_val, val_predictions))"
   ]
  }
 ],
 "metadata": {
  "kernelspec": {
   "display_name": "Python 3",
   "language": "python",
   "name": "python3"
  },
  "language_info": {
   "codemirror_mode": {
    "name": "ipython",
    "version": 3
   },
   "file_extension": ".py",
   "mimetype": "text/x-python",
   "name": "python",
   "nbconvert_exporter": "python",
   "pygments_lexer": "ipython3",
   "version": "3.10.11"
  }
 },
 "nbformat": 4,
 "nbformat_minor": 5
}

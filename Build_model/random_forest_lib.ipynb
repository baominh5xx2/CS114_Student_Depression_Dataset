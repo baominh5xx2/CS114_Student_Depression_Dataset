{
 "cells": [
  {
   "cell_type": "code",
   "execution_count": 5,
   "id": "2d0a301d",
   "metadata": {},
   "outputs": [],
   "source": [
    "import pandas as pd\n",
    "import numpy as np\n",
    "from sklearn.model_selection import train_test_split\n",
    "from sklearn.tree import DecisionTreeClassifier\n",
    "from sklearn.metrics import classification_report, accuracy_score\n",
    "from sklearn.model_selection import GridSearchCV"
   ]
  },
  {
   "cell_type": "code",
   "execution_count": 2,
   "id": "677a3c91",
   "metadata": {},
   "outputs": [],
   "source": [
    "df_train = pd.read_csv('../train_set_encoded.csv')\n",
    "df_val = pd.read_csv('../test_set_encoded.csv')\n",
    "X_val = df_val.drop('Depression', axis=1)\n",
    "y_val = df_val['Depression']\n",
    "X = df_train.drop('Depression', axis=1)\n",
    "y = df_train['Depression']"
   ]
  },
  {
   "cell_type": "code",
   "execution_count": 8,
   "id": "c1e60bc3",
   "metadata": {},
   "outputs": [
    {
     "name": "stdout",
     "output_type": "stream",
     "text": [
      "Fitting 5 folds for each of 672 candidates, totalling 3360 fits\n",
      "Best Parameters: {'criterion': 'entropy', 'max_depth': 10, 'min_samples_leaf': 15, 'min_samples_split': 2, 'splitter': 'random'}\n",
      "Best Cross-Validation Accuracy: 0.8294202852285256\n",
      "\n",
      "Classification Report (Training Set):\n",
      "              precision    recall  f1-score   support\n",
      "\n",
      "           0       0.83      0.80      0.82      9215\n",
      "           1       0.86      0.89      0.87     13103\n",
      "\n",
      "    accuracy                           0.85     22318\n",
      "   macro avg       0.85      0.84      0.84     22318\n",
      "weighted avg       0.85      0.85      0.85     22318\n",
      "\n",
      "\n",
      "Classification Report (Validation Set):\n",
      "              precision    recall  f1-score   support\n",
      "\n",
      "           0       0.82      0.75      0.78      2348\n",
      "           1       0.83      0.88      0.85      3232\n",
      "\n",
      "    accuracy                           0.82      5580\n",
      "   macro avg       0.82      0.81      0.82      5580\n",
      "weighted avg       0.82      0.82      0.82      5580\n",
      "\n",
      "\n",
      "Top 15 Most Important Features:\n",
      "                                      feature  importance\n",
      "40  Have you ever had suicidal thoughts ?_Yes    0.449718\n",
      "1                           Academic Pressure    0.246115\n",
      "8                            Financial Stress    0.125459\n",
      "0                                         Age    0.041573\n",
      "12                   Dietary Habits_Unhealthy    0.029880\n",
      "7                            Work/Study Hours    0.029790\n",
      "4                          Study Satisfaction    0.023916\n",
      "6                              Sleep Duration    0.012902\n",
      "9                                 Gender_Male    0.008240\n",
      "10                    Dietary Habits_Moderate    0.008075\n",
      "41       Family History of Mental Illness_Yes    0.007878\n",
      "23                            Degree_Class 12    0.007776\n",
      "3                                        CGPA    0.004030\n",
      "20                                  Degree_BE    0.000841\n",
      "30                                  Degree_MA    0.000690\n"
     ]
    }
   ],
   "source": [
    "# Define parameter grid for DecisionTreeClassifier\n",
    "param_grid = {\n",
    "    'max_depth': [None, 10, 20, 30, 40, 50],\n",
    "    'min_samples_split': [2, 5, 10, 15],\n",
    "    'min_samples_leaf': [1, 2, 4, 6, 8, 10, 15],\n",
    "    'criterion': ['gini', 'entropy'],\n",
    "    'splitter': ['best', 'random']\n",
    "}\n",
    "\n",
    "# Initialize Decision Tree model\n",
    "dt = DecisionTreeClassifier(random_state=42)\n",
    "\n",
    "# Perform GridSearchCV\n",
    "grid_search = GridSearchCV(estimator=dt, param_grid=param_grid, \n",
    "                          cv=5, scoring='accuracy', verbose=1, n_jobs=-1)\n",
    "grid_search.fit(X, y)\n",
    "\n",
    "# Get the best model\n",
    "best_dt = grid_search.best_estimator_\n",
    "\n",
    "# Print the best parameters and accuracy\n",
    "print(f\"Best Parameters: {grid_search.best_params_}\")\n",
    "print(f\"Best Cross-Validation Accuracy: {grid_search.best_score_}\")\n",
    "\n",
    "# Predict on training and validation sets\n",
    "y_train_pred = best_dt.predict(X)\n",
    "y_val_pred = best_dt.predict(X_val)\n",
    "\n",
    "# Generate classification reports\n",
    "print(\"\\nClassification Report (Training Set):\")\n",
    "print(classification_report(y, y_train_pred))\n",
    "\n",
    "print(\"\\nClassification Report (Validation Set):\")\n",
    "print(classification_report(y_val, y_val_pred))\n",
    "\n",
    "# Feature importance\n",
    "feature_importances = best_dt.feature_importances_\n",
    "features = X.columns\n",
    "importances = pd.DataFrame({'feature': features, 'importance': feature_importances})\n",
    "importances = importances.sort_values('importance', ascending=False)\n",
    "\n",
    "# Display top 15 features\n",
    "print(\"\\nTop 15 Most Important Features:\")\n",
    "print(importances.head(15))"
   ]
  }
 ],
 "metadata": {
  "kernelspec": {
   "display_name": "Python 3",
   "language": "python",
   "name": "python3"
  },
  "language_info": {
   "codemirror_mode": {
    "name": "ipython",
    "version": 3
   },
   "file_extension": ".py",
   "mimetype": "text/x-python",
   "name": "python",
   "nbconvert_exporter": "python",
   "pygments_lexer": "ipython3",
   "version": "3.10.11"
  }
 },
 "nbformat": 4,
 "nbformat_minor": 5
}

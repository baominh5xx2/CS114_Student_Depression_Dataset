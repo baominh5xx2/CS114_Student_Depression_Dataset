{
 "cells": [
  {
   "cell_type": "markdown",
   "id": "6818a4c6",
   "metadata": {},
   "source": [
    "# SVM Model with scikit-learn\n"
   ]
  },
  {
   "cell_type": "code",
   "execution_count": null,
   "id": "bbfbe9dc",
   "metadata": {},
   "outputs": [],
   "source": [
    "import pandas as pd\n",
    "from sklearn.model_selection import train_test_split\n",
    "from sklearn.svm import SVC\n",
    "from sklearn.metrics import classification_report, accuracy_score\n",
    "from svm_scratch import LinearSVM_Dual"
   ]
  },
  {
   "cell_type": "code",
   "execution_count": null,
   "id": "aa6a8d3f",
   "metadata": {},
   "outputs": [],
   "source": [
    "\n",
    "df = pd.read_csv('.csv')\n",
    "X = df.drop('Oral Cancer (Diagnosis)', axis=1)\n",
    "y = df['target_column']"
   ]
  },
  {
   "cell_type": "code",
   "execution_count": null,
   "id": "0bc89aeb",
   "metadata": {},
   "outputs": [],
   "source": [
    "# Split data \n",
    "X_train, X_test, y_train, y_test = train_test_split(X, y, test_size=0.2, random_state=42)"
   ]
  },
  {
   "cell_type": "code",
   "execution_count": null,
   "id": "ae4c6f3a",
   "metadata": {},
   "outputs": [],
   "source": [
    "# Set random\n",
    "C_value = 1.0\n",
    "max_iter_value = 1000\n",
    "tol_value = 1e-4\n",
    "\n",
    "\n",
    "svm_model = SVC(kernel='linear', C=C_value, tol=tol_value, max_iter=max_iter_value, random_state=42)\n",
    "svm_model.fit(X_train, y_train)"
   ]
  },
  {
   "cell_type": "markdown",
   "id": "8385a7cd",
   "metadata": {},
   "source": [
    "## Evaluate Model (scikit-learn)"
   ]
  },
  {
   "cell_type": "code",
   "execution_count": null,
   "id": "97296ea5",
   "metadata": {},
   "outputs": [],
   "source": [
    "# evaluate (scikit-learn)\n",
    "y_pred = svm_model.predict(X_test)\n",
    "print('Accuracy (scikit-learn):', accuracy_score(y_test, y_pred))\n",
    "print(classification_report(y_test, y_pred))"
   ]
  },
  {
   "cell_type": "markdown",
   "id": "3e145e34",
   "metadata": {},
   "source": [
    "## Custom SVM Implementation (from scratch)"
   ]
  },
  {
   "cell_type": "markdown",
   "id": "ce0720ff",
   "metadata": {},
   "source": [
    "### Train and Evaluate Custom SVM"
   ]
  },
  {
   "cell_type": "code",
   "execution_count": null,
   "id": "c9f86ec9",
   "metadata": {},
   "outputs": [],
   "source": [
    "\n",
    "svm_scratch = LinearSVM_Dual(C=C_value, tol=tol_value, max_iter=max_iter_value)\n",
    "svm_scratch.fit(X_train, y_train)\n",
    "\n",
    "# evaluate\n",
    "y_pred_scratch = svm_scratch.predict(X_test)\n",
    "print('Accuracy (scratch):', accuracy_score(y_test, y_pred_scratch))\n",
    "print(classification_report(y_test, y_pred_scratch))"
   ]
  }
 ],
 "metadata": {
  "language_info": {
   "name": "python"
  }
 },
 "nbformat": 4,
 "nbformat_minor": 5
}

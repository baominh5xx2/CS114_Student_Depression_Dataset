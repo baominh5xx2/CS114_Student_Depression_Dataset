{
 "cells": [
  {
   "cell_type": "markdown",
   "id": "6818a4c6",
   "metadata": {},
   "source": [
    "# SVM Model with scikit-learn\n"
   ]
  },
  {
   "cell_type": "code",
   "execution_count": 1,
   "id": "bbfbe9dc",
   "metadata": {},
   "outputs": [],
   "source": [
    "import pandas as pd\n",
    "from sklearn.model_selection import train_test_split\n",
    "from sklearn.svm import SVC\n",
    "from sklearn.metrics import classification_report, accuracy_score\n",
    "from svm_scratch import LinearSVM_Dual\n",
    "from sklearn.model_selection import GridSearchCV"
   ]
  },
  {
   "cell_type": "code",
   "execution_count": 3,
   "id": "aa6a8d3f",
   "metadata": {},
   "outputs": [],
   "source": [
    "\n",
    "df_train = pd.read_csv('../train_set_encoded.csv')\n",
    "df_val = pd.read_csv('../test_set_encoded.csv')\n",
    "X_val = df_val.drop('Depression', axis=1)\n",
    "y_val = df_val['Depression']\n",
    "X = df_train.drop('Depression', axis=1)\n",
    "y = df_train['Depression']"
   ]
  },
  {
   "cell_type": "code",
   "execution_count": 11,
   "id": "ae4c6f3a",
   "metadata": {},
   "outputs": [
    {
     "name": "stdout",
     "output_type": "stream",
     "text": [
      "Best parameters: {'C': 1}\n",
      "Best cross-validation accuracy: 0.8463574556067129\n",
      "\n",
      "Validation Set Results:\n",
      "Accuracy on validation set: 0.843010752688172\n",
      "\n",
      "Classification Report on Validation Set:\n",
      "              precision    recall  f1-score   support\n",
      "\n",
      "           0       0.84      0.77      0.81      2348\n",
      "           1       0.84      0.90      0.87      3232\n",
      "\n",
      "    accuracy                           0.84      5580\n",
      "   macro avg       0.84      0.83      0.84      5580\n",
      "weighted avg       0.84      0.84      0.84      5580\n",
      "\n"
     ]
    }
   ],
   "source": [
    "param_grid = {\n",
    "    'C': [0.01, 0.1, 1, 10, 100]\n",
    "}\n",
    "\n",
    "svc = SVC(kernel='linear', random_state=42)\n",
    "grid_search = GridSearchCV(svc, param_grid, cv=5, scoring='accuracy', n_jobs=-1)\n",
    "grid_search.fit(X, y)\n",
    "\n",
    "print(\"Best parameters:\", grid_search.best_params_)\n",
    "print(\"Best cross-validation accuracy:\", grid_search.best_score_)\n",
    "\n",
    "# Use best model and evaluate on validation set\n",
    "svm_model = grid_search.best_estimator_\n",
    "val_predictions = svm_model.predict(X_val)\n",
    "\n",
    "# Print validation results\n",
    "print(\"\\nValidation Set Results:\")\n",
    "print(\"Accuracy on validation set:\", accuracy_score(y_val, val_predictions))\n",
    "print(\"\\nClassification Report on Validation Set:\")\n",
    "print(classification_report(y_val, val_predictions))"
   ]
  },
  {
   "cell_type": "markdown",
   "id": "3e145e34",
   "metadata": {},
   "source": [
    "## Custom SVM Implementation (from scratch)"
   ]
  },
  {
   "cell_type": "markdown",
   "id": "ce0720ff",
   "metadata": {},
   "source": [
    "### Train and Evaluate Custom SVM"
   ]
  },
  {
   "cell_type": "code",
   "execution_count": null,
   "id": "c9f86ec9",
   "metadata": {},
   "outputs": [],
   "source": [
    "# Định nghĩa siêu tham số\n",
    "C_value = 1.0  # C nên chọn từ kết quả GridSearchCV tốt nhất\n",
    "tol_value = 1e-3  # Tolerance thường dùng 1e-4 hoặc 1e-3\n",
    "max_iter_value = 500  # Số vòng lặp tối đa\n",
    "X_train_array = X.to_numpy()\n",
    "y_train_array = y.to_numpy()\n",
    "# Huấn luyện và đánh giá mô hình\n",
    "svm_scratch = LinearSVM_Dual(C=C_value, tol=tol_value, max_iter=max_iter_value)\n",
    "svm_scratch.fit(X_train_array, y_train_array)  # Sử dụng toàn bộ training data\n",
    "\n",
    "# Đánh giá trên tập validation\n",
    "y_pred_scratch = svm_scratch.predict(X_val)\n",
    "print('Accuracy (scratch):', accuracy_score(y_val, y_pred_scratch))\n",
    "print('\\nClassification Report:')\n",
    "print(classification_report(y_val, y_pred_scratch))"
   ]
  }
 ],
 "metadata": {
  "kernelspec": {
   "display_name": "Python 3",
   "language": "python",
   "name": "python3"
  },
  "language_info": {
   "codemirror_mode": {
    "name": "ipython",
    "version": 3
   },
   "file_extension": ".py",
   "mimetype": "text/x-python",
   "name": "python",
   "nbconvert_exporter": "python",
   "pygments_lexer": "ipython3",
   "version": "3.10.11"
  }
 },
 "nbformat": 4,
 "nbformat_minor": 5
}
